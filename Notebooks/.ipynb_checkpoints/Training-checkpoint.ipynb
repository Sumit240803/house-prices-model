{
 "cells": [
  {
   "cell_type": "code",
   "execution_count": 10,
   "id": "3a239839-ced7-4211-a453-e9a24aed3e34",
   "metadata": {},
   "outputs": [],
   "source": [
    "import pandas as pd\n",
    "from sklearn.model_selection import train_test_split\n",
    "from sklearn.preprocessing import StandardScaler"
   ]
  },
  {
   "cell_type": "code",
   "execution_count": 2,
   "id": "02ffd79b-3dde-4685-abc1-f157987f0652",
   "metadata": {},
   "outputs": [],
   "source": [
    "data = pd.read_csv(\"Datasets/HousePriceIndia/ProcessedPrice.csv\")"
   ]
  },
  {
   "cell_type": "code",
   "execution_count": 3,
   "id": "68080bde-00d2-4777-a95e-a8003d0ce301",
   "metadata": {},
   "outputs": [
    {
     "name": "stdout",
     "output_type": "stream",
     "text": [
      "<class 'pandas.core.frame.DataFrame'>\n",
      "RangeIndex: 13859 entries, 0 to 13858\n",
      "Data columns (total 21 columns):\n",
      " #   Column                                 Non-Null Count  Dtype  \n",
      "---  ------                                 --------------  -----  \n",
      " 0   number of bedrooms                     13859 non-null  int64  \n",
      " 1   number of bathrooms                    13859 non-null  float64\n",
      " 2   living area                            13859 non-null  int64  \n",
      " 3   lot area                               13859 non-null  int64  \n",
      " 4   number of floors                       13859 non-null  float64\n",
      " 5   waterfront present                     13859 non-null  int64  \n",
      " 6   condition of the house                 13859 non-null  int64  \n",
      " 7   grade of the house                     13859 non-null  int64  \n",
      " 8   Area of the house(excluding basement)  13859 non-null  int64  \n",
      " 9   Area of the basement                   13859 non-null  int64  \n",
      " 10  Built Year                             13859 non-null  int64  \n",
      " 11  Renovation Year                        13859 non-null  int64  \n",
      " 12  Lattitude                              13859 non-null  float64\n",
      " 13  Longitude                              13859 non-null  float64\n",
      " 14  living_area_renov                      13859 non-null  int64  \n",
      " 15  lot_area_renov                         13859 non-null  int64  \n",
      " 16  Number of schools nearby               13859 non-null  int64  \n",
      " 17  Distance from the airport              13859 non-null  int64  \n",
      " 18  Price                                  13859 non-null  int64  \n",
      " 19  Age                                    13859 non-null  int64  \n",
      " 20  Year since renovation                  13859 non-null  int64  \n",
      "dtypes: float64(4), int64(17)\n",
      "memory usage: 2.2 MB\n"
     ]
    }
   ],
   "source": [
    "data.info()"
   ]
  },
  {
   "cell_type": "code",
   "execution_count": 4,
   "id": "04081958-0e9a-43c1-980c-0505ca96e54c",
   "metadata": {},
   "outputs": [],
   "source": [
    "data.drop(\"waterfront present\" , axis = 1 , inplace=True)"
   ]
  },
  {
   "cell_type": "code",
   "execution_count": 5,
   "id": "5bb6ea8d-8282-4bc3-8736-bf02f0403268",
   "metadata": {},
   "outputs": [
    {
     "name": "stdout",
     "output_type": "stream",
     "text": [
      "<class 'pandas.core.frame.DataFrame'>\n",
      "RangeIndex: 13859 entries, 0 to 13858\n",
      "Data columns (total 20 columns):\n",
      " #   Column                                 Non-Null Count  Dtype  \n",
      "---  ------                                 --------------  -----  \n",
      " 0   number of bedrooms                     13859 non-null  int64  \n",
      " 1   number of bathrooms                    13859 non-null  float64\n",
      " 2   living area                            13859 non-null  int64  \n",
      " 3   lot area                               13859 non-null  int64  \n",
      " 4   number of floors                       13859 non-null  float64\n",
      " 5   condition of the house                 13859 non-null  int64  \n",
      " 6   grade of the house                     13859 non-null  int64  \n",
      " 7   Area of the house(excluding basement)  13859 non-null  int64  \n",
      " 8   Area of the basement                   13859 non-null  int64  \n",
      " 9   Built Year                             13859 non-null  int64  \n",
      " 10  Renovation Year                        13859 non-null  int64  \n",
      " 11  Lattitude                              13859 non-null  float64\n",
      " 12  Longitude                              13859 non-null  float64\n",
      " 13  living_area_renov                      13859 non-null  int64  \n",
      " 14  lot_area_renov                         13859 non-null  int64  \n",
      " 15  Number of schools nearby               13859 non-null  int64  \n",
      " 16  Distance from the airport              13859 non-null  int64  \n",
      " 17  Price                                  13859 non-null  int64  \n",
      " 18  Age                                    13859 non-null  int64  \n",
      " 19  Year since renovation                  13859 non-null  int64  \n",
      "dtypes: float64(4), int64(16)\n",
      "memory usage: 2.1 MB\n"
     ]
    }
   ],
   "source": [
    "data.info()"
   ]
  },
  {
   "cell_type": "code",
   "execution_count": 11,
   "id": "a5b71b9b-18f0-4705-9bc9-bbedf3dd01ec",
   "metadata": {},
   "outputs": [],
   "source": [
    "scaler = StandardScaler()\n",
    "features = ['number of bedrooms', 'number of bathrooms', 'living area', 'lot area', \n",
    "            'number of floors', 'condition of the house', 'grade of the house', \n",
    "            'Area of the house(excluding basement)', 'Area of the basement', \n",
    "            'Built Year', 'Renovation Year', 'Lattitude', 'Longitude', \n",
    "            'living_area_renov', 'lot_area_renov', 'Number of schools nearby', \n",
    "            'Distance from the airport']\n",
    "\n",
    "\n",
    "data[features] = scaler.fit_transform(data[features])"
   ]
  },
  {
   "cell_type": "code",
   "execution_count": 13,
   "id": "4d7801ed-8230-4f92-b330-f0a9e6450288",
   "metadata": {},
   "outputs": [],
   "source": [
    "x = data.drop(\"Price\" , axis = 1)\n",
    "y = data['Price']"
   ]
  },
  {
   "cell_type": "code",
   "execution_count": 17,
   "id": "a8bbe601-b596-44be-82c8-a99157b567a6",
   "metadata": {},
   "outputs": [],
   "source": [
    "X_train,X_test,Y_train,Y_test = train_test_split(x,y,test_size=0.2 , random_state= 42)"
   ]
  },
  {
   "cell_type": "code",
   "execution_count": 19,
   "id": "d8b6a706-8678-4c16-914b-1456d382a0d5",
   "metadata": {},
   "outputs": [],
   "source": [
    "from sklearn.linear_model import LinearRegression\n",
    "from sklearn.metrics import mean_squared_error, r2_score\n"
   ]
  },
  {
   "cell_type": "code",
   "execution_count": 22,
   "id": "64f1d10b-3334-4d66-913a-1eb826bdeba4",
   "metadata": {},
   "outputs": [
    {
     "name": "stdout",
     "output_type": "stream",
     "text": [
      "Mean Squared Error: 12889521693.27145\n",
      "R-squared: 0.7063377767522008\n"
     ]
    }
   ],
   "source": [
    "model = LinearRegression()\n",
    "model.fit(X_train,Y_train)\n",
    "y_pred = model.predict(X_test)\n",
    "mse = mean_squared_error(Y_test , y_pred)\n",
    "r2=r2_score(Y_test,y_pred)\n",
    "print(f'Mean Squared Error: {mse}')\n",
    "print(f'R-squared: {r2}')"
   ]
  },
  {
   "cell_type": "code",
   "execution_count": null,
   "id": "09ff93e5-dcd6-4553-aaa5-90122354e5ba",
   "metadata": {},
   "outputs": [],
   "source": []
  }
 ],
 "metadata": {
  "kernelspec": {
   "display_name": "Python 3 (ipykernel)",
   "language": "python",
   "name": "python3"
  },
  "language_info": {
   "codemirror_mode": {
    "name": "ipython",
    "version": 3
   },
   "file_extension": ".py",
   "mimetype": "text/x-python",
   "name": "python",
   "nbconvert_exporter": "python",
   "pygments_lexer": "ipython3",
   "version": "3.12.6"
  }
 },
 "nbformat": 4,
 "nbformat_minor": 5
}
