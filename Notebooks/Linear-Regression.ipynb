{
 "cells": [
  {
   "cell_type": "code",
   "execution_count": 2,
   "id": "a54c8a9e-fa3a-451e-bbda-e6ba732ca6da",
   "metadata": {},
   "outputs": [],
   "source": [
    "from sklearn.model_selection import train_test_split\n",
    "from sklearn.linear_model import LinearRegression\n",
    "from sklearn.metrics import r2_score, mean_absolute_error, mean_squared_error\n",
    "import numpy as np\n",
    "import pandas as pd"
   ]
  },
  {
   "cell_type": "code",
   "execution_count": 7,
   "id": "f34ed5f4-008f-4b5d-8c40-5a31a3f37be4",
   "metadata": {},
   "outputs": [],
   "source": [
    "X = pd.read_csv(\"../Datasets/HousePriceIndia/Cleaned-House-Prices.csv\")"
   ]
  },
  {
   "cell_type": "code",
   "execution_count": 8,
   "id": "9a6912f6-f84e-49be-9278-f823f793beb1",
   "metadata": {},
   "outputs": [],
   "source": [
    "Y =pd.read_csv(\"../Datasets/HousePriceIndia/ProcessedPrice.csv\")"
   ]
  },
  {
   "cell_type": "code",
   "execution_count": 10,
   "id": "1e0de9fe-44fe-4704-a57b-26d27cc2adb4",
   "metadata": {},
   "outputs": [],
   "source": [
    "Y = Y[\"Price\"]"
   ]
  },
  {
   "cell_type": "code",
   "execution_count": 17,
   "id": "8179d005-a547-4057-80cf-f68349c7c7f6",
   "metadata": {},
   "outputs": [
    {
     "data": {
      "text/plain": [
       "0.6550053555360225"
      ]
     },
     "execution_count": 17,
     "metadata": {},
     "output_type": "execute_result"
    }
   ],
   "source": [
    "X_train,X_test,Y_train,Y_test = train_test_split(X ,Y,test_size=0.2, random_state=42)\n",
    "lr = LinearRegression()\n",
    "lr.fit(X_train,Y_train)\n",
    "y_pred_lr = lr.predict(X_test)\n",
    "r2_score(Y_test,y_pred_lr)"
   ]
  },
  {
   "cell_type": "code",
   "execution_count": 18,
   "id": "cb533f99-3e79-4617-93c4-aeabc54e05ad",
   "metadata": {},
   "outputs": [],
   "source": [
    "from sklearn.ensemble import RandomForestRegressor"
   ]
  },
  {
   "cell_type": "code",
   "execution_count": 21,
   "id": "ac975af7-eaab-4453-a241-2545bc6f6982",
   "metadata": {},
   "outputs": [
    {
     "data": {
      "text/plain": [
       "0.8434569121775305"
      ]
     },
     "execution_count": 21,
     "metadata": {},
     "output_type": "execute_result"
    }
   ],
   "source": [
    "rf = RandomForestRegressor()\n",
    "rf.fit(X_train, Y_train)\n",
    "y_pred_rf = rf.predict(X_test)\n",
    "r2_score(Y_test,y_pred_rf)"
   ]
  },
  {
   "cell_type": "code",
   "execution_count": 20,
   "id": "55550951-8569-48b4-b51e-f7351970303e",
   "metadata": {},
   "outputs": [
    {
     "data": {
      "text/plain": [
       "0.8440028593199671"
      ]
     },
     "execution_count": 20,
     "metadata": {},
     "output_type": "execute_result"
    }
   ],
   "source": []
  },
  {
   "cell_type": "code",
   "execution_count": null,
   "id": "411028c2-45a6-444f-9a71-070f002f9997",
   "metadata": {},
   "outputs": [],
   "source": []
  },
  {
   "cell_type": "code",
   "execution_count": null,
   "id": "3175465f-cae4-4e85-9e39-198b50b16aaa",
   "metadata": {},
   "outputs": [],
   "source": []
  }
 ],
 "metadata": {
  "kernelspec": {
   "display_name": "Python 3 (ipykernel)",
   "language": "python",
   "name": "python3"
  },
  "language_info": {
   "codemirror_mode": {
    "name": "ipython",
    "version": 3
   },
   "file_extension": ".py",
   "mimetype": "text/x-python",
   "name": "python",
   "nbconvert_exporter": "python",
   "pygments_lexer": "ipython3",
   "version": "3.12.6"
  }
 },
 "nbformat": 4,
 "nbformat_minor": 5
}
